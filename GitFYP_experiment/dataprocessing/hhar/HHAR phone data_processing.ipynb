{
 "cells": [
  {
   "cell_type": "markdown",
   "metadata": {},
   "source": [
    "# Data Description\n",
    "The sensors were sampledat the highest rate each device would support, and we segment thisdata into non-overlapping windows of 128 time steps. We includethe data collected from the 31 smartphones in our experiments."
   ]
  },
  {
   "cell_type": "markdown",
   "metadata": {},
   "source": [
    "# Data Processing"
   ]
  },
  {
   "cell_type": "code",
   "execution_count": 1,
   "metadata": {},
   "outputs": [],
   "source": [
    "import numpy as np\n",
    "import torch \n",
    "import os\n",
    "from torch.utils.data import Dataset, DataLoader\n",
    "import torch.nn as nn\n",
    "from sklearn.preprocessing import StandardScaler, MinMaxScaler\n",
    "from sklearn.model_selection import train_test_split\n",
    "import pandas as pd\n",
    "\n",
    "scaler = StandardScaler()\n"
   ]
  },
  {
   "cell_type": "code",
   "execution_count": null,
   "metadata": {},
   "outputs": [],
   "source": [
    "# from IPython.core.debugger import Tracer\n",
    "# debug_here = Tracer()"
   ]
  },
  {
   "cell_type": "code",
   "execution_count": 2,
   "metadata": {},
   "outputs": [],
   "source": [
    "data_dir = '../Activity recognition exp'\n",
    "# HHAR_phones = pd.read_csv(f'{data_dir}/Phones_accelerometer.csv')\n",
    "# HHAR_watch_ref = pd.read_csv(f'{data_dir}/Watch_accelerometer.csv')\n",
    "HHAR_watch_ref = pd.read_csv(f'{data_dir}/Phones_accelerometer.csv')\n",
    "\n",
    "HHAR_watch=HHAR_watch_ref.copy()"
   ]
  },
  {
   "cell_type": "code",
   "execution_count": 3,
   "metadata": {},
   "outputs": [
    {
     "data": {
      "text/html": [
       "<div>\n",
       "<style scoped>\n",
       "    .dataframe tbody tr th:only-of-type {\n",
       "        vertical-align: middle;\n",
       "    }\n",
       "\n",
       "    .dataframe tbody tr th {\n",
       "        vertical-align: top;\n",
       "    }\n",
       "\n",
       "    .dataframe thead th {\n",
       "        text-align: right;\n",
       "    }\n",
       "</style>\n",
       "<table border=\"1\" class=\"dataframe\">\n",
       "  <thead>\n",
       "    <tr style=\"text-align: right;\">\n",
       "      <th></th>\n",
       "      <th>Index</th>\n",
       "      <th>Arrival_Time</th>\n",
       "      <th>Creation_Time</th>\n",
       "      <th>x</th>\n",
       "      <th>y</th>\n",
       "      <th>z</th>\n",
       "      <th>User</th>\n",
       "      <th>Model</th>\n",
       "      <th>Device</th>\n",
       "      <th>gt</th>\n",
       "    </tr>\n",
       "  </thead>\n",
       "  <tbody>\n",
       "    <tr>\n",
       "      <th>0</th>\n",
       "      <td>0</td>\n",
       "      <td>1424696633908</td>\n",
       "      <td>1424696631913248572</td>\n",
       "      <td>-5.958191</td>\n",
       "      <td>0.688065</td>\n",
       "      <td>8.135345</td>\n",
       "      <td>a</td>\n",
       "      <td>nexus4</td>\n",
       "      <td>nexus4_1</td>\n",
       "      <td>stand</td>\n",
       "    </tr>\n",
       "    <tr>\n",
       "      <th>1</th>\n",
       "      <td>1</td>\n",
       "      <td>1424696633909</td>\n",
       "      <td>1424696631918283972</td>\n",
       "      <td>-5.952240</td>\n",
       "      <td>0.670212</td>\n",
       "      <td>8.136536</td>\n",
       "      <td>a</td>\n",
       "      <td>nexus4</td>\n",
       "      <td>nexus4_1</td>\n",
       "      <td>stand</td>\n",
       "    </tr>\n",
       "    <tr>\n",
       "      <th>2</th>\n",
       "      <td>2</td>\n",
       "      <td>1424696633918</td>\n",
       "      <td>1424696631923288855</td>\n",
       "      <td>-5.995087</td>\n",
       "      <td>0.653549</td>\n",
       "      <td>8.204376</td>\n",
       "      <td>a</td>\n",
       "      <td>nexus4</td>\n",
       "      <td>nexus4_1</td>\n",
       "      <td>stand</td>\n",
       "    </tr>\n",
       "    <tr>\n",
       "      <th>3</th>\n",
       "      <td>3</td>\n",
       "      <td>1424696633919</td>\n",
       "      <td>1424696631928385290</td>\n",
       "      <td>-5.942718</td>\n",
       "      <td>0.676163</td>\n",
       "      <td>8.128204</td>\n",
       "      <td>a</td>\n",
       "      <td>nexus4</td>\n",
       "      <td>nexus4_1</td>\n",
       "      <td>stand</td>\n",
       "    </tr>\n",
       "    <tr>\n",
       "      <th>4</th>\n",
       "      <td>4</td>\n",
       "      <td>1424696633929</td>\n",
       "      <td>1424696631933420691</td>\n",
       "      <td>-5.991516</td>\n",
       "      <td>0.641647</td>\n",
       "      <td>8.135345</td>\n",
       "      <td>a</td>\n",
       "      <td>nexus4</td>\n",
       "      <td>nexus4_1</td>\n",
       "      <td>stand</td>\n",
       "    </tr>\n",
       "    <tr>\n",
       "      <th>5</th>\n",
       "      <td>5</td>\n",
       "      <td>1424696633929</td>\n",
       "      <td>1424696631938456091</td>\n",
       "      <td>-5.965332</td>\n",
       "      <td>0.629745</td>\n",
       "      <td>8.128204</td>\n",
       "      <td>a</td>\n",
       "      <td>nexus4</td>\n",
       "      <td>nexus4_1</td>\n",
       "      <td>stand</td>\n",
       "    </tr>\n",
       "    <tr>\n",
       "      <th>6</th>\n",
       "      <td>6</td>\n",
       "      <td>1424696633938</td>\n",
       "      <td>1424696631943522009</td>\n",
       "      <td>-5.991516</td>\n",
       "      <td>0.635696</td>\n",
       "      <td>8.162720</td>\n",
       "      <td>a</td>\n",
       "      <td>nexus4</td>\n",
       "      <td>nexus4_1</td>\n",
       "      <td>stand</td>\n",
       "    </tr>\n",
       "    <tr>\n",
       "      <th>7</th>\n",
       "      <td>7</td>\n",
       "      <td>1424696633939</td>\n",
       "      <td>1424696631948496374</td>\n",
       "      <td>-5.915344</td>\n",
       "      <td>0.630936</td>\n",
       "      <td>8.105591</td>\n",
       "      <td>a</td>\n",
       "      <td>nexus4</td>\n",
       "      <td>nexus4_1</td>\n",
       "      <td>stand</td>\n",
       "    </tr>\n",
       "    <tr>\n",
       "      <th>8</th>\n",
       "      <td>8</td>\n",
       "      <td>1424696633951</td>\n",
       "      <td>1424696631953592810</td>\n",
       "      <td>-5.984375</td>\n",
       "      <td>0.694016</td>\n",
       "      <td>8.067505</td>\n",
       "      <td>a</td>\n",
       "      <td>nexus4</td>\n",
       "      <td>nexus4_1</td>\n",
       "      <td>stand</td>\n",
       "    </tr>\n",
       "    <tr>\n",
       "      <th>9</th>\n",
       "      <td>9</td>\n",
       "      <td>1424696633952</td>\n",
       "      <td>1424696631960428747</td>\n",
       "      <td>-5.937958</td>\n",
       "      <td>0.715439</td>\n",
       "      <td>8.090118</td>\n",
       "      <td>a</td>\n",
       "      <td>nexus4</td>\n",
       "      <td>nexus4_1</td>\n",
       "      <td>stand</td>\n",
       "    </tr>\n",
       "  </tbody>\n",
       "</table>\n",
       "</div>"
      ],
      "text/plain": [
       "   Index   Arrival_Time        Creation_Time         x         y         z  \\\n",
       "0      0  1424696633908  1424696631913248572 -5.958191  0.688065  8.135345   \n",
       "1      1  1424696633909  1424696631918283972 -5.952240  0.670212  8.136536   \n",
       "2      2  1424696633918  1424696631923288855 -5.995087  0.653549  8.204376   \n",
       "3      3  1424696633919  1424696631928385290 -5.942718  0.676163  8.128204   \n",
       "4      4  1424696633929  1424696631933420691 -5.991516  0.641647  8.135345   \n",
       "5      5  1424696633929  1424696631938456091 -5.965332  0.629745  8.128204   \n",
       "6      6  1424696633938  1424696631943522009 -5.991516  0.635696  8.162720   \n",
       "7      7  1424696633939  1424696631948496374 -5.915344  0.630936  8.105591   \n",
       "8      8  1424696633951  1424696631953592810 -5.984375  0.694016  8.067505   \n",
       "9      9  1424696633952  1424696631960428747 -5.937958  0.715439  8.090118   \n",
       "\n",
       "  User   Model    Device     gt  \n",
       "0    a  nexus4  nexus4_1  stand  \n",
       "1    a  nexus4  nexus4_1  stand  \n",
       "2    a  nexus4  nexus4_1  stand  \n",
       "3    a  nexus4  nexus4_1  stand  \n",
       "4    a  nexus4  nexus4_1  stand  \n",
       "5    a  nexus4  nexus4_1  stand  \n",
       "6    a  nexus4  nexus4_1  stand  \n",
       "7    a  nexus4  nexus4_1  stand  \n",
       "8    a  nexus4  nexus4_1  stand  \n",
       "9    a  nexus4  nexus4_1  stand  "
      ]
     },
     "execution_count": 3,
     "metadata": {},
     "output_type": "execute_result"
    }
   ],
   "source": [
    "HHAR_watch.head(10)\n"
   ]
  },
  {
   "cell_type": "code",
   "execution_count": 4,
   "metadata": {},
   "outputs": [
    {
     "data": {
      "text/plain": [
       "e    1614999\n",
       "g    1587697\n",
       "i    1557737\n",
       "b    1548768\n",
       "f    1384531\n",
       "a    1362520\n",
       "h    1342301\n",
       "d    1337124\n",
       "c    1326798\n",
       "Name: User, dtype: int64"
      ]
     },
     "execution_count": 4,
     "metadata": {},
     "output_type": "execute_result"
    }
   ],
   "source": [
    "HHAR_watch['User'].value_counts()"
   ]
  },
  {
   "cell_type": "code",
   "execution_count": 5,
   "metadata": {},
   "outputs": [
    {
     "data": {
      "text/plain": [
       "i    1342007\n",
       "b    1320280\n",
       "e    1310856\n",
       "g    1278593\n",
       "d    1223857\n",
       "h    1223093\n",
       "a    1218871\n",
       "c    1188186\n",
       "f    1173532\n",
       "Name: User, dtype: int64"
      ]
     },
     "execution_count": 5,
     "metadata": {},
     "output_type": "execute_result"
    }
   ],
   "source": [
    "HHAR_watch_refined = HHAR_watch.dropna()\n",
    "HHAR_watch_refined['User'].value_counts()"
   ]
  },
  {
   "cell_type": "code",
   "execution_count": 6,
   "metadata": {},
   "outputs": [
    {
     "data": {
      "text/plain": [
       "array(['nexus4_1', 'nexus4_2', 's3_1', 's3_2', 's3mini_1', 's3mini_2',\n",
       "       'samsungold_1', 'samsungold_2'], dtype=object)"
      ]
     },
     "execution_count": 6,
     "metadata": {},
     "output_type": "execute_result"
    }
   ],
   "source": [
    "HHAR_watch['Device'].unique()"
   ]
  },
  {
   "cell_type": "code",
   "execution_count": 7,
   "metadata": {},
   "outputs": [
    {
     "data": {
      "text/plain": [
       "array(['nexus4', 's3', 's3mini', 'samsungold'], dtype=object)"
      ]
     },
     "execution_count": 7,
     "metadata": {},
     "output_type": "execute_result"
    }
   ],
   "source": [
    "HHAR_watch['Model'].unique()"
   ]
  },
  {
   "cell_type": "code",
   "execution_count": 8,
   "metadata": {},
   "outputs": [
    {
     "data": {
      "text/plain": [
       "array(['stand', nan, 'sit', 'walk', 'stairsup', 'stairsdown', 'bike'],\n",
       "      dtype=object)"
      ]
     },
     "execution_count": 8,
     "metadata": {},
     "output_type": "execute_result"
    }
   ],
   "source": [
    "HHAR_watch['gt'].unique()"
   ]
  },
  {
   "cell_type": "code",
   "execution_count": 9,
   "metadata": {},
   "outputs": [
    {
     "data": {
      "text/plain": [
       "array(['a', 'b', 'c', 'd', 'e', 'f', 'g', 'h', 'i'], dtype=object)"
      ]
     },
     "execution_count": 9,
     "metadata": {},
     "output_type": "execute_result"
    }
   ],
   "source": [
    "HHAR_watch['User'].unique()"
   ]
  },
  {
   "cell_type": "code",
   "execution_count": 11,
   "metadata": {},
   "outputs": [
    {
     "data": {
      "text/plain": [
       "array(['stand', 'sit', 'walk', 'stairsup', 'stairsdown', 'bike'],\n",
       "      dtype=object)"
      ]
     },
     "execution_count": 11,
     "metadata": {},
     "output_type": "execute_result"
    }
   ],
   "source": [
    "HHAR_watch=HHAR_watch.dropna()\n",
    "HHAR_watch['gt'].unique()"
   ]
  },
  {
   "cell_type": "code",
   "execution_count": 12,
   "metadata": {},
   "outputs": [
    {
     "data": {
      "text/plain": [
       "['stand', 'sit', 'walk', 'stairsup', 'stairsdown', 'bike']\n",
       "Categories (6, object): ['bike', 'sit', 'stairsdown', 'stairsup', 'stand', 'walk']"
      ]
     },
     "execution_count": 12,
     "metadata": {},
     "output_type": "execute_result"
    }
   ],
   "source": [
    "HHAR_watch['gt'] = HHAR_watch['gt'].astype('category')\n",
    "HHAR_watch['gt'].unique()"
   ]
  },
  {
   "cell_type": "code",
   "execution_count": 13,
   "metadata": {},
   "outputs": [
    {
     "data": {
      "text/plain": [
       "array([4, 1, 5, 3, 2, 0], dtype=int8)"
      ]
     },
     "execution_count": 13,
     "metadata": {},
     "output_type": "execute_result"
    }
   ],
   "source": [
    "HHAR_watch['labels']=HHAR_watch['gt'].cat.codes\n",
    "HHAR_watch['labels'].unique()\n",
    "\n"
   ]
  },
  {
   "cell_type": "code",
   "execution_count": 3,
   "metadata": {},
   "outputs": [],
   "source": [
    "def sliding_window(time_series, width, step, order='F'):\n",
    "    w = np.hstack([time_series[i:1 + i - width or None:step] for i in range(0, width)])\n",
    "    result = w.reshape((int(len(w) / width), width), order='F')\n",
    "    if order == 'F':\n",
    "        return result\n",
    "    else:\n",
    "        return np.ascontiguousarray(result)\n",
    "\n",
    "def calc_normalization(data):\n",
    "    num_instances, num_time_steps, num_features = data.shape\n",
    "    data = np.reshape(data, (num_instances, -1))\n",
    "    scaler.fit(data)\n",
    "#     mean, std = (np.array([np.mean(x) for x in X_train], dtype=np.float32), np.array([np.std(x) for x in X_train], dtype=np.float32))\n",
    "    return scaler\n",
    "def apply_normalization(data, scaler):\n",
    "#     scaler = StandardScaler()\n",
    "    num_instances, num_time_steps, num_features = data.shape\n",
    "    data = np.reshape(data, (num_instances, -1))\n",
    "    norm_data = scaler.transform(data)\n",
    "#     debug_here()\n",
    "#     data = (data - mean) / (std + 1e-5)\n",
    "    norm_data[np.isnan(norm_data)] = 0\n",
    "    norm_data = np.reshape(norm_data, (num_instances, num_time_steps, num_features))\n",
    "    return norm_data\n"
   ]
  },
  {
   "cell_type": "code",
   "execution_count": 14,
   "metadata": {},
   "outputs": [],
   "source": [
    "def HHAR_data_generator(HHAR_):\n",
    "    full_data={}\n",
    "    seq_length = 128\n",
    "    shifting_step = 128\n",
    "    num_variables = 3\n",
    "    \n",
    "    HHAR_=HHAR_watch.dropna()\n",
    "    HHAR_['gt'] = HHAR_['gt'].astype('category')\n",
    "    HHAR_['labels']=HHAR_['gt'].cat.codes\n",
    "    # print(HHAR_['labels'].unique())\n",
    "    \n",
    "    # drop irrelevant columns \n",
    "    HHAR_refined = HHAR_.drop(columns=['Index', 'Arrival_Time', 'Creation_Time', 'Model','Device' , 'gt'])\n",
    "#     user_index = 0\n",
    "    \n",
    "    for user_name, user_data in  HHAR_refined.groupby('User'): #group by each user, or can ignore it, use 1 big file\n",
    "        data, labels = [], []\n",
    "        \n",
    "        # looping through data from each class per user\n",
    "        for class_name, class_data in user_data.groupby('labels'):\n",
    "            col_index=0\n",
    "            # slicing data to 128 with no overlap \n",
    "            sliced_data = np.empty((int(class_data.shape[0]/seq_length),seq_length, num_variables))\n",
    "            for column in class_data[['x', 'y', 'z']]:\n",
    "                column_data = class_data[column]\n",
    "                sliced_data[:,:,col_index] = sliding_window(column_data.values, seq_length,shifting_step, 'T')\n",
    "                col_index +=1\n",
    "           # append data \n",
    "            data.append(sliced_data)\n",
    "            # generate labels\n",
    "            class_labels = np.empty(sliced_data.shape[0])\n",
    "            class_labels.fill(class_name)\n",
    "            labels.append(class_labels.astype(int))\n",
    "            \n",
    "        # data and labels for each users \n",
    "        array_user_data= np.concatenate(data, axis=0 )\n",
    "        array_user_labels= np.concatenate(labels, axis=0 )        \n",
    "        \n",
    "        print('data: ', array_user_data.dtype)\n",
    "        print('labels: ',array_user_labels.dtype)\n",
    "        # Stratified train, validation, test split of the data \n",
    "        X_train, X_test, y_train, y_test = train_test_split(array_user_data, array_user_labels,  stratify=array_user_labels,  test_size=0.3,random_state=1)\n",
    "        X_train, X_val, y_train, y_val = train_test_split(X_train, y_train, test_size=0.2, stratify=y_train, random_state=1)\n",
    "\n",
    "        # Data normalization \n",
    "        # Calculate mean and standard deviation based on train\n",
    "        scaler = calc_normalization (X_train)\n",
    "        \n",
    "        # Apply normalization \n",
    "        X_train = apply_normalization(X_train,scaler)\n",
    "        X_val = apply_normalization(X_val,scaler)\n",
    "        X_test = apply_normalization(X_test,scaler)\n",
    "        \n",
    "        # prepare samples\n",
    "        train_data = {'samples':X_train, 'labels':y_train}\n",
    "        val_data   = {'samples':X_val, 'labels':y_val}\n",
    "        test_data  = {'samples':X_test, 'labels':y_test}\n",
    "        \n",
    "        #gyroscope  accelerometer\n",
    "        torch.save(train_data, f'../HHAR_train_val_test/train_wa.pt') #split it according to the user; also can merge 0-8 as one big file\n",
    "        torch.save(test_data, f'../HHAR_train_val_test/test_wa.pt')\n",
    "        torch.save(val_data,  f'../HHAR_train_val_test/val_wa.pt')\n",
    "        # user_index+=1\n",
    "\n",
    "        # print(user_index, \":\", len(train_data[\"samples\"])+len(test_data[\"samples\"]))\n",
    "    "
   ]
  },
  {
   "cell_type": "code",
   "execution_count": 16,
   "metadata": {},
   "outputs": [
    {
     "name": "stderr",
     "output_type": "stream",
     "text": [
      "/var/folders/vp/5q7d1xdj6xn18sv64g2jrcdr0000gn/T/ipykernel_9357/1587053602.py:8: SettingWithCopyWarning: \n",
      "A value is trying to be set on a copy of a slice from a DataFrame.\n",
      "Try using .loc[row_indexer,col_indexer] = value instead\n",
      "\n",
      "See the caveats in the documentation: https://pandas.pydata.org/pandas-docs/stable/user_guide/indexing.html#returning-a-view-versus-a-copy\n",
      "  HHAR_['gt'] = HHAR_['gt'].astype('category')\n",
      "/var/folders/vp/5q7d1xdj6xn18sv64g2jrcdr0000gn/T/ipykernel_9357/1587053602.py:9: SettingWithCopyWarning: \n",
      "A value is trying to be set on a copy of a slice from a DataFrame.\n",
      "Try using .loc[row_indexer,col_indexer] = value instead\n",
      "\n",
      "See the caveats in the documentation: https://pandas.pydata.org/pandas-docs/stable/user_guide/indexing.html#returning-a-view-versus-a-copy\n",
      "  HHAR_['labels']=HHAR_['gt'].cat.codes\n"
     ]
    },
    {
     "name": "stdout",
     "output_type": "stream",
     "text": [
      "data:  float64\n",
      "labels:  int64\n",
      "data:  float64\n",
      "labels:  int64\n",
      "data:  float64\n",
      "labels:  int64\n",
      "data:  float64\n",
      "labels:  int64\n",
      "data:  float64\n",
      "labels:  int64\n",
      "data:  float64\n",
      "labels:  int64\n",
      "data:  float64\n",
      "labels:  int64\n",
      "data:  float64\n",
      "labels:  int64\n",
      "data:  float64\n",
      "labels:  int64\n"
     ]
    }
   ],
   "source": [
    "# concat accelerometer and gyroscope\n",
    "HHAR_a=pd.read_csv(f'{data_dir}/Watch_accelerometer.csv')\n",
    "# HHAR_watch_g=pd.read_csv(f'{data_dir}/Phones_gyroscope.csv')\n",
    "\n",
    "# HHAR_watch=pd.concat([HHAR_watch_a,HHAR_watch_g])\n",
    "HHAR_data_generator(HHAR_a)"
   ]
  },
  {
   "cell_type": "code",
   "execution_count": 45,
   "metadata": {},
   "outputs": [
    {
     "data": {
      "text/plain": [
       "i    1342007\n",
       "b    1320280\n",
       "e    1310856\n",
       "g    1278593\n",
       "d    1223857\n",
       "h    1223093\n",
       "a    1218871\n",
       "c    1188186\n",
       "f    1173532\n",
       "Name: User, dtype: int64"
      ]
     },
     "execution_count": 45,
     "metadata": {},
     "output_type": "execute_result"
    }
   ],
   "source": [
    "HHAR_watch_a=HHAR_watch_a.dropna()\n",
    "HHAR_watch_a['User'].value_counts()"
   ]
  },
  {
   "cell_type": "code",
   "execution_count": 25,
   "metadata": {},
   "outputs": [
    {
     "data": {
      "text/plain": [
       "e    620188\n",
       "f    578939\n",
       "c    507779\n",
       "b    497544\n",
       "a    496424\n",
       "d    440868\n",
       "g    161141\n",
       "h    141538\n",
       "i     96541\n",
       "Name: User, dtype: int64"
      ]
     },
     "execution_count": 25,
     "metadata": {},
     "output_type": "execute_result"
    }
   ],
   "source": [
    "HHAR_watch_a['User'].value_counts()"
   ]
  },
  {
   "cell_type": "code",
   "execution_count": 28,
   "metadata": {},
   "outputs": [
    {
     "data": {
      "text/plain": [
       "e    567252\n",
       "f    535078\n",
       "b    497348\n",
       "c    478461\n",
       "a    453610\n",
       "d    420959\n",
       "h    116592\n",
       "g     92428\n",
       "i     43703\n",
       "Name: User, dtype: int64"
      ]
     },
     "execution_count": 28,
     "metadata": {},
     "output_type": "execute_result"
    }
   ],
   "source": [
    "HHAR_watch_g['User'].value_counts()"
   ]
  },
  {
   "cell_type": "code",
   "execution_count": 52,
   "metadata": {},
   "outputs": [
    {
     "data": {
      "text/plain": [
       "1523"
      ]
     },
     "execution_count": 52,
     "metadata": {},
     "output_type": "execute_result"
    }
   ],
   "source": [
    "data_folder = '/Users/lizliao/Downloads/GitFYP_experiment/Dataset/'\n",
    "#gyroscope  accelerometer\n",
    "\n",
    "train_data = torch.load(data_folder + 'HHAR Processed Data/HHAR_SA/train_0.pt')\n",
    "test_data = torch.load(data_folder + 'HHAR Processed Data/HHAR_SA/test_0.pt')\n",
    "\n",
    "X_train = train_data['samples']\n",
    "y_train = train_data['labels']\n",
    "# y_train.min(), y_train.max()\n",
    "X_test = test_data['samples']\n",
    "y_test = test_data['labels']\n",
    "\n",
    "len(X_train)+len(X_test)"
   ]
  },
  {
   "cell_type": "code",
   "execution_count": null,
   "metadata": {},
   "outputs": [],
   "source": []
  },
  {
   "cell_type": "code",
   "execution_count": 40,
   "metadata": {},
   "outputs": [
    {
     "data": {
      "text/plain": [
       "10380"
      ]
     },
     "execution_count": 40,
     "metadata": {},
     "output_type": "execute_result"
    }
   ],
   "source": [
    "train_data = torch.load(data_folder + 'HHAR Processed Data/HHAR_w_users/accelerometer/train_0.pt')\n",
    "test_data = torch.load(data_folder + 'HHAR Processed Data/HHAR_w_users/accelerometer/test_0.pt')\n",
    "\n",
    "X_train = train_data['samples']\n",
    "y_train = train_data['labels']\n",
    "# y_train.min(), y_train.max()\n",
    "X_test = test_data['samples']\n",
    "y_test = test_data['labels']\n",
    "len(X_train)+len(X_test)"
   ]
  },
  {
   "cell_type": "code",
   "execution_count": 56,
   "metadata": {},
   "outputs": [],
   "source": [
    "data_dir = '../Activity recognition exp'\n",
    "HHAR_ = pd.read_csv(f'{data_dir}/Phones_accelerometer.csv')"
   ]
  },
  {
   "cell_type": "code",
   "execution_count": 59,
   "metadata": {},
   "outputs": [
    {
     "name": "stdout",
     "output_type": "stream",
     "text": [
      "<class 'pandas.core.frame.DataFrame'>\n",
      "RangeIndex: 13062475 entries, 0 to 13062474\n",
      "Data columns (total 10 columns):\n",
      " #   Column         Dtype  \n",
      "---  ------         -----  \n",
      " 0   Index          int64  \n",
      " 1   Arrival_Time   int64  \n",
      " 2   Creation_Time  int64  \n",
      " 3   x              float64\n",
      " 4   y              float64\n",
      " 5   z              float64\n",
      " 6   User           object \n",
      " 7   Model          object \n",
      " 8   Device         object \n",
      " 9   gt             object \n",
      "dtypes: float64(3), int64(3), object(4)\n",
      "memory usage: 996.6+ MB\n"
     ]
    }
   ],
   "source": [
    "HHAR_.info()"
   ]
  },
  {
   "cell_type": "code",
   "execution_count": 63,
   "metadata": {},
   "outputs": [
    {
     "data": {
      "text/plain": [
       "i    1342007\n",
       "b    1320280\n",
       "e    1310856\n",
       "g    1278593\n",
       "d    1223857\n",
       "h    1223093\n",
       "a    1218871\n",
       "c    1188186\n",
       "f    1173532\n",
       "Name: User, dtype: int64"
      ]
     },
     "execution_count": 63,
     "metadata": {},
     "output_type": "execute_result"
    }
   ],
   "source": [
    "HHAR_ = HHAR_ .dropna()\n",
    "HHAR_['User'].value_counts()"
   ]
  }
 ],
 "metadata": {
  "kernelspec": {
   "display_name": "Python 3.9.12",
   "language": "python",
   "name": "python3"
  },
  "language_info": {
   "codemirror_mode": {
    "name": "ipython",
    "version": 3
   },
   "file_extension": ".py",
   "mimetype": "text/x-python",
   "name": "python",
   "nbconvert_exporter": "python",
   "pygments_lexer": "ipython3",
   "version": "3.9.12"
  },
  "vscode": {
   "interpreter": {
    "hash": "ee2d7c94c8fd93c15a5357e2cd04515ed41165811ccbc4e27d88d6be1e422911"
   }
  }
 },
 "nbformat": 4,
 "nbformat_minor": 4
}
