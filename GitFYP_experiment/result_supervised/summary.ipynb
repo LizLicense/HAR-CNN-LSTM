{
 "cells": [
  {
   "cell_type": "markdown",
   "metadata": {},
   "source": [
    "UCI: \n",
    "dataset: 1 phone: acc + gry\n",
    "model: 1 CNN-LSTM; 2 CNN-LSTM-ATT\n",
    "\n",
    "HAPT: (imbalanced)\n",
    "dataset: 1 phone: acc + gry\n",
    "model: 1 CNN-LSTM; 2 CNN-LSTM-ATT\n",
    "HAPT: (balanced)\n",
    "dataset: 1 phone: acc + gry\n",
    "model: 1 CNN-LSTM; 2 CNN-LSTM-ATT\n",
    "\n",
    "HHAR: \n",
    "dataset: 1.1 phone: acc; 1.2 phone gry; 1.3 phone: acc+gry;\n",
    "2.1 watch acc; 2.2 watch gry; 2.3 watch: acc+gry;\n",
    "model: 1 CNN-LSTM; 2 CNN-LSTM-ATT\n"
   ]
  },
  {
   "cell_type": "markdown",
   "metadata": {},
   "source": [
    "UCI: \n",
    "dataset: 1 phone: acc + gry\n",
    "model: 1 CNN-LSTM; \n",
    "epoch=50\n",
    "batchsize=64\n",
    "lr=0.001\n",
    "network:\n",
    "lstm: 128\n",
    "\n",
    "f1 average:0.90\n",
    "train acc avg: 93.88, test acc avg: 90.03\n",
    "\n",
    "\n",
    "\n",
    "2 CNN-LSTM-ATT\n",
    "+attention hidden size: 128\n",
    "\n",
    "f1 average:0.83\n",
    "train acc avg: 91.21, test acc avg: 83.50"
   ]
  },
  {
   "cell_type": "markdown",
   "metadata": {},
   "source": [
    "HAPT: (imbalanced)\n",
    "dataset: 1 phone: acc + gry\n",
    "model: 1 CNN-LSTM; \n",
    "show the missing f1 score classes\n",
    "f1 average:0.52\n",
    "train acc avg: 93.30, test acc avg: 90.30\n",
    "\n",
    "<img src=\"/HAPT/confusion matrix_HAPT_bef.png\">\n",
    "\n",
    "HAPT: (balanced)\n",
    "dataset: 1 phone: acc + gry\n",
    "model: 1 CNN-LSTM; \n",
    "f1 average:0.84\n",
    "train acc avg: 97.83, test acc avg: 92.28\n",
    "\n",
    "\n",
    "2 CNN-LSTM-ATT\n",
    "\n",
    "f1 average:0.75\n",
    "train acc avg: 92.96, test acc avg: 86.37"
   ]
  },
  {
   "cell_type": "markdown",
   "metadata": {},
   "source": [
    "HHAR: \n",
    "dataset:\n",
    "model: 1 CNN-LSTM; \n",
    "1.1 phone: acc; \n",
    "f1 average:0.95\n",
    "train acc avg: 95.95, test acc avg: 95.49\n",
    "\n",
    "\n",
    "1.2 phone gry; \n",
    "f1 average:0.88\n",
    "train acc avg: 88.81, test acc avg: 87.74\n",
    "\n",
    "\n",
    "\n",
    "2.1 watch acc; \n",
    "f1 average:0.8066\n",
    "train acc avg: 84.24, test acc avg: 82.17\n",
    "\n",
    "2.2 watch gry; \n",
    "f1 average:0.7172\n",
    "train acc avg: 77.67, test acc avg: 72.98\n",
    "\n",
    "\n",
    "2 CNN-LSTM-ATT\n",
    "\n",
    "1.1 phone: acc; \n",
    "f1 average:0.6663\n",
    "train acc avg: 69.55, test acc avg: 68.92\n",
    "\n",
    "1.2 phone gry; \n",
    "\n",
    "f1 average:0.6663\n",
    "train acc avg: 69.55, test acc avg: 68.92\n",
    "\n",
    "\n",
    "2.1 watch acc; \n",
    "f1 average:0.67\n",
    "train acc avg: 69.55, test acc avg: 68.92\n",
    "\n",
    "2.2 watch gry; \n",
    "f1 average:0.67\n",
    "train acc avg: 69.55, test acc avg: 68.92\n"
   ]
  }
 ],
 "metadata": {
  "kernelspec": {
   "display_name": "Python 3.9.12",
   "language": "python",
   "name": "python3"
  },
  "language_info": {
   "name": "python",
   "version": "3.9.12"
  },
  "orig_nbformat": 4,
  "vscode": {
   "interpreter": {
    "hash": "ee2d7c94c8fd93c15a5357e2cd04515ed41165811ccbc4e27d88d6be1e422911"
   }
  }
 },
 "nbformat": 4,
 "nbformat_minor": 2
}
