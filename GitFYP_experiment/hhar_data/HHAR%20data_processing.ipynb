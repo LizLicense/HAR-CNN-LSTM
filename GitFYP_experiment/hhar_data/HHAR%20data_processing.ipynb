{
 "cells": [
  {
   "cell_type": "markdown",
   "metadata": {},
   "source": [
    "# Data Description\n",
    "The sensors were sampledat the highest rate each device would support, and we segment thisdata into non-overlapping windows of 128 time steps. We includethe data collected from the 31 smartphones in our experiments."
   ]
  },
  {
   "cell_type": "markdown",
   "metadata": {},
   "source": [
    "# Data Processing"
   ]
  },
  {
   "cell_type": "code",
   "execution_count": 2,
   "metadata": {},
   "outputs": [
    {
     "name": "stderr",
     "output_type": "stream",
     "text": [
      "<ipython-input-2-ea82c6e7c2a6>:11: DeprecationWarning: `Tracer` is deprecated since version 5.1, directly use `IPython.core.debugger.Pdb.set_trace()`\n",
      "  debug_here = Tracer()\n"
     ]
    }
   ],
   "source": [
    "import numpy as np\n",
    "import torch \n",
    "import os\n",
    "from torch.utils.data import Dataset, DataLoader\n",
    "import torch.nn as nn\n",
    "from sklearn.preprocessing import StandardScaler, MinMaxScaler\n",
    "from sklearn.model_selection import train_test_split\n",
    "import pandas as pd\n",
    "from IPython.core.debugger import Tracer\n",
    "scaler = StandardScaler()\n",
    "debug_here = Tracer()"
   ]
  },
  {
   "cell_type": "code",
   "execution_count": 3,
   "metadata": {},
   "outputs": [],
   "source": [
    "data_dir = 'Activity recognition exp'\n",
    "HHAR_phones = pd.read_csv(f'{data_dir}/Phones_accelerometer.csv')\n"
   ]
  },
  {
   "cell_type": "code",
   "execution_count": 33,
   "metadata": {},
   "outputs": [],
   "source": [
    "def sliding_window(time_series, width, step, order='F'):\n",
    "    w = np.hstack([time_series[i:1 + i - width or None:step] for i in range(0, width)])\n",
    "    result = w.reshape((int(len(w) / width), width), order='F')\n",
    "    if order == 'F':\n",
    "        return result\n",
    "    else:\n",
    "        return np.ascontiguousarray(result)\n",
    "\n",
    "def calc_normalization(data):\n",
    "    num_instances, num_time_steps, num_features = data.shape\n",
    "    data = np.reshape(data, (num_instances, -1))\n",
    "    scaler.fit(data)\n",
    "#     mean, std = (np.array([np.mean(x) for x in X_train], dtype=np.float32), np.array([np.std(x) for x in X_train], dtype=np.float32))\n",
    "    return scaler\n",
    "def apply_normalization(data, scaler):\n",
    "#     scaler = StandardScaler()\n",
    "    num_instances, num_time_steps, num_features = data.shape\n",
    "    data = np.reshape(data, (num_instances, -1))\n",
    "    norm_data = scaler.transform(data)\n",
    "#     debug_here()\n",
    "#     data = (data - mean) / (std + 1e-5)\n",
    "    norm_data[np.isnan(norm_data)] = 0\n",
    "    norm_data = np.reshape(norm_data, (num_instances, num_time_steps, num_features))\n",
    "    return norm_data\n",
    "\n",
    "def HHAR_data_generator(HHAR_phones, model_type):\n",
    "    # dataloading \n",
    "#     HHAR_phones = pd.read_csv(f'{data_dir}/Phones_accelerometer.csv')\n",
    "    full_data={}\n",
    "    seq_length = 128\n",
    "    shifting_step = 128\n",
    "    num_variables = 3\n",
    "    HHAR_phones = HHAR_phones.dropna()\n",
    "#     HHAR_phones = pd.read_csv('Activity recognition exp/Phones_accelerometer.csv')\n",
    "    # phones: convert categorical labels to numbers \n",
    "    HHAR_phones['gt'] = HHAR_phones['gt'].astype('category')\n",
    "    HHAR_phones['labels']=HHAR_phones['gt'].cat.codes\n",
    "    #HHAR_phones['labels'] += 1\n",
    "    # drop irrelevant columns \n",
    "    HHAR_phones_refined = HHAR_phones.drop(columns=['Index', 'Arrival_Time', 'Creation_Time', 'Model','Device' , 'gt'])\n",
    "    user_index = 0\n",
    "    # looping trough users \n",
    "    for user_name, user_data in  HHAR_phones_refined.groupby('User'):\n",
    "        data, labels = [], []\n",
    "        # looping through data from each class per user\n",
    "        for class_name, class_data in user_data.groupby('labels'):\n",
    "            col_index=0\n",
    "            # slicing data to 128 with no overlap \n",
    "            sliced_data = np.empty((int(class_data.shape[0]/seq_length),seq_length, num_variables))\n",
    "            for column in class_data[['x', 'y', 'z']]:\n",
    "                column_data = class_data[column]\n",
    "                sliced_data[:,:,col_index] = sliding_window(column_data.values, seq_length,shifting_step, 'T')\n",
    "                col_index +=1\n",
    "           # append data \n",
    "            data.append(sliced_data)\n",
    "            # generate labels\n",
    "            class_labels = np.empty(sliced_data.shape[0])\n",
    "            class_labels.fill(class_name)\n",
    "            labels.append(class_labels.astype(int))\n",
    "            \n",
    "        # data and labels for each users \n",
    "        array_user_data= np.concatenate(data, axis=0 )\n",
    "        array_user_labels= np.concatenate(labels, axis=0 )        \n",
    "        \n",
    "        # Stratified train, validation, test split of the data \n",
    "        X_train, X_test, y_train, y_test = train_test_split(array_user_data, array_user_labels,  stratify=array_user_labels,  test_size=0.3,random_state=1)\n",
    "#         X_train, X_val, y_train, y_val = train_test_split(X_train, y_train, test_size=0.2, stratify=y_train, random_state=1)\n",
    "        \n",
    "        # Data normalization \n",
    "        # Calculate mean and standard deviation based on train\n",
    "        scaler = calc_normalization (X_train)\n",
    "        \n",
    "        # Apply normalization \n",
    "        X_train = apply_normalization(X_train,scaler)\n",
    "#         X_val = apply_normalization(X_val,scaler)\n",
    "        X_test = apply_normalization(X_test,scaler)\n",
    "        \n",
    "        # prepare samples\n",
    "        train_data = {'samples':X_train, 'labels':y_train}\n",
    "#         val_data   = {'samples':X_val, 'labels':y_val}\n",
    "        test_data  = {'samples':X_test, 'labels':y_test}\n",
    "        \n",
    "        torch.save(train_data, f'../ADATIME_data/{model_type}/train_{user_index}.pt')\n",
    "#         torch.save(val_data,  f'HHAR_user_data/val_{user_name}.pt')\n",
    "        torch.save(test_data, f'../ADATIME_data/{model_type}/test_{user_index}.pt')\n",
    "        user_index+=1"
   ]
  },
  {
   "cell_type": "code",
   "execution_count": 42,
   "metadata": {},
   "outputs": [
    {
     "data": {
      "text/plain": [
       "17395.03125"
      ]
     },
     "execution_count": 42,
     "metadata": {},
     "output_type": "execute_result"
    }
   ],
   "source": [
    "samsungold_data.shape[0]/128"
   ]
  },
  {
   "cell_type": "code",
   "execution_count": 31,
   "metadata": {},
   "outputs": [],
   "source": [
    "data_dir = 'Activity recognition exp'\n",
    "HHAR_phones = pd.read_csv(f'{data_dir}/Phones_accelerometer.csv')\n",
    "nexus4_data=HHAR_phones[HHAR_phones['Model']=='nexus4']\n",
    "s3_data=HHAR_phones[HHAR_phones['Model']=='s3']\n",
    "s3mini_data=HHAR_phones[HHAR_phones['Model']=='s3mini']\n",
    "samsungold_data=HHAR_phones[HHAR_phones['Model']=='samsungold']\n",
    "devices =  {'nexus':nexus4_data, 's3':s3_data, 's3_mini':s3mini_data,'samsungold':samsungold_data}\n"
   ]
  },
  {
   "cell_type": "code",
   "execution_count": 63,
   "metadata": {},
   "outputs": [
    {
     "data": {
      "text/plain": [
       "71435.41015625"
      ]
     },
     "execution_count": 63,
     "metadata": {},
     "output_type": "execute_result"
    }
   ],
   "source": [
    "HHAR_phones.shape[0]/128 *0.7"
   ]
  },
  {
   "cell_type": "code",
   "execution_count": 64,
   "metadata": {},
   "outputs": [
    {
     "data": {
      "text/plain": [
       "30615.17578125"
      ]
     },
     "execution_count": 64,
     "metadata": {},
     "output_type": "execute_result"
    }
   ],
   "source": [
    "HHAR_phones.shape[0]/128 *0.3"
   ]
  },
  {
   "cell_type": "code",
   "execution_count": 57,
   "metadata": {},
   "outputs": [
    {
     "data": {
      "text/plain": [
       "g    2119.945312\n",
       "b    2115.437500\n",
       "e    2106.851562\n",
       "f    2056.742188\n",
       "i    2025.437500\n",
       "c    1798.351562\n",
       "h    1766.578125\n",
       "a    1717.906250\n",
       "d    1687.781250\n",
       "Name: User, dtype: float64"
      ]
     },
     "execution_count": 57,
     "metadata": {},
     "output_type": "execute_result"
    }
   ],
   "source": [
    "samsungold_data.User.value_counts()  /128"
   ]
  },
  {
   "cell_type": "code",
   "execution_count": 51,
   "metadata": {},
   "outputs": [
    {
     "data": {
      "text/plain": [
       "5218.509375"
      ]
     },
     "execution_count": 51,
     "metadata": {},
     "output_type": "execute_result"
    }
   ],
   "source": [
    "samsungold_data.ushape[0]/128 *0.3"
   ]
  },
  {
   "cell_type": "code",
   "execution_count": 35,
   "metadata": {},
   "outputs": [
    {
     "name": "stderr",
     "output_type": "stream",
     "text": [
      "<ipython-input-33-dcd3e5c7e928>:36: SettingWithCopyWarning: \n",
      "A value is trying to be set on a copy of a slice from a DataFrame.\n",
      "Try using .loc[row_indexer,col_indexer] = value instead\n",
      "\n",
      "See the caveats in the documentation: https://pandas.pydata.org/pandas-docs/stable/user_guide/indexing.html#returning-a-view-versus-a-copy\n",
      "  HHAR_phones['gt'] = HHAR_phones['gt'].astype('category')\n",
      "<ipython-input-33-dcd3e5c7e928>:37: SettingWithCopyWarning: \n",
      "A value is trying to be set on a copy of a slice from a DataFrame.\n",
      "Try using .loc[row_indexer,col_indexer] = value instead\n",
      "\n",
      "See the caveats in the documentation: https://pandas.pydata.org/pandas-docs/stable/user_guide/indexing.html#returning-a-view-versus-a-copy\n",
      "  HHAR_phones['labels']=HHAR_phones['gt'].cat.codes\n",
      "<ipython-input-33-dcd3e5c7e928>:36: SettingWithCopyWarning: \n",
      "A value is trying to be set on a copy of a slice from a DataFrame.\n",
      "Try using .loc[row_indexer,col_indexer] = value instead\n",
      "\n",
      "See the caveats in the documentation: https://pandas.pydata.org/pandas-docs/stable/user_guide/indexing.html#returning-a-view-versus-a-copy\n",
      "  HHAR_phones['gt'] = HHAR_phones['gt'].astype('category')\n",
      "<ipython-input-33-dcd3e5c7e928>:37: SettingWithCopyWarning: \n",
      "A value is trying to be set on a copy of a slice from a DataFrame.\n",
      "Try using .loc[row_indexer,col_indexer] = value instead\n",
      "\n",
      "See the caveats in the documentation: https://pandas.pydata.org/pandas-docs/stable/user_guide/indexing.html#returning-a-view-versus-a-copy\n",
      "  HHAR_phones['labels']=HHAR_phones['gt'].cat.codes\n",
      "<ipython-input-33-dcd3e5c7e928>:36: SettingWithCopyWarning: \n",
      "A value is trying to be set on a copy of a slice from a DataFrame.\n",
      "Try using .loc[row_indexer,col_indexer] = value instead\n",
      "\n",
      "See the caveats in the documentation: https://pandas.pydata.org/pandas-docs/stable/user_guide/indexing.html#returning-a-view-versus-a-copy\n",
      "  HHAR_phones['gt'] = HHAR_phones['gt'].astype('category')\n",
      "<ipython-input-33-dcd3e5c7e928>:37: SettingWithCopyWarning: \n",
      "A value is trying to be set on a copy of a slice from a DataFrame.\n",
      "Try using .loc[row_indexer,col_indexer] = value instead\n",
      "\n",
      "See the caveats in the documentation: https://pandas.pydata.org/pandas-docs/stable/user_guide/indexing.html#returning-a-view-versus-a-copy\n",
      "  HHAR_phones['labels']=HHAR_phones['gt'].cat.codes\n",
      "<ipython-input-33-dcd3e5c7e928>:36: SettingWithCopyWarning: \n",
      "A value is trying to be set on a copy of a slice from a DataFrame.\n",
      "Try using .loc[row_indexer,col_indexer] = value instead\n",
      "\n",
      "See the caveats in the documentation: https://pandas.pydata.org/pandas-docs/stable/user_guide/indexing.html#returning-a-view-versus-a-copy\n",
      "  HHAR_phones['gt'] = HHAR_phones['gt'].astype('category')\n",
      "<ipython-input-33-dcd3e5c7e928>:37: SettingWithCopyWarning: \n",
      "A value is trying to be set on a copy of a slice from a DataFrame.\n",
      "Try using .loc[row_indexer,col_indexer] = value instead\n",
      "\n",
      "See the caveats in the documentation: https://pandas.pydata.org/pandas-docs/stable/user_guide/indexing.html#returning-a-view-versus-a-copy\n",
      "  HHAR_phones['labels']=HHAR_phones['gt'].cat.codes\n"
     ]
    }
   ],
   "source": [
    "for data_name, dataset in devices.items():\n",
    "    HHAR_data_generator(dataset,data_name)"
   ]
  },
  {
   "cell_type": "code",
   "execution_count": 62,
   "metadata": {},
   "outputs": [
    {
     "data": {
      "text/plain": [
       "['e']"
      ]
     },
     "execution_count": 62,
     "metadata": {},
     "output_type": "execute_result"
    }
   ],
   "source": [
    "import math\n",
    "import os\n",
    "import random\n",
    "import re\n",
    "import sys\n",
    "\n",
    "\n",
    "s = \"aabbbccde\"\n",
    "out = list(s)\n",
    "# [out(i) for i in range(len(out)) if i==j]\n",
    "# [(i,j) for i,j in zip(out,out) if i==j]\n",
    "x=[]\n",
    "for i in range(len(out)):\n",
    "    for j in range(len(out)):\n",
    "        if i!=j\n",
    "        \n",
    "    x=[out[i] for j in range(len(out)) if out[i]==out[j]]\n",
    "x "
   ]
  },
  {
   "cell_type": "code",
   "execution_count": 78,
   "metadata": {},
   "outputs": [
    {
     "name": "stdout",
     "output_type": "stream",
     "text": [
      "b 3\n",
      "a 2\n",
      "c 2\n",
      "d 1\n",
      "e 1\n"
     ]
    }
   ],
   "source": [
    "import collections\n",
    "\n",
    "d={k: 0 for k in list(s)}\n",
    "for c in s:\n",
    "    d[c] += 1\n",
    "d={k: v for k, v in sorted(d.items(), key=lambda item: item[1], reverse = True)}   \n",
    "for k,v in d.items():\n",
    "    print (k,v)"
   ]
  },
  {
   "cell_type": "code",
   "execution_count": 81,
   "metadata": {},
   "outputs": [
    {
     "data": {
      "text/plain": [
       "__main__.OrderedCounter"
      ]
     },
     "execution_count": 81,
     "metadata": {},
     "output_type": "execute_result"
    }
   ],
   "source": [
    "OrderedCounter"
   ]
  },
  {
   "cell_type": "code",
   "execution_count": 4,
   "metadata": {},
   "outputs": [
    {
     "name": "stdout",
     "output_type": "stream",
     "text": [
      "aabbbccde\n",
      "b 3\n",
      "a 2\n",
      "c 2\n"
     ]
    },
    {
     "data": {
      "text/plain": [
       "[None, None, None]"
      ]
     },
     "execution_count": 4,
     "metadata": {},
     "output_type": "execute_result"
    }
   ],
   "source": [
    "from collections import Counter, OrderedDict\n",
    "\n",
    "[print(*c) for c in  Counter(sorted(input())).most_common(3)]"
   ]
  },
  {
   "cell_type": "code",
   "execution_count": 5,
   "metadata": {},
   "outputs": [
    {
     "data": {
      "text/plain": [
       "collections.Counter"
      ]
     },
     "execution_count": 5,
     "metadata": {},
     "output_type": "execute_result"
    }
   ],
   "source": [
    "Counter()"
   ]
  },
  {
   "cell_type": "code",
   "execution_count": 30,
   "metadata": {},
   "outputs": [
    {
     "data": {
      "text/plain": [
       "16.375"
      ]
     },
     "execution_count": 30,
     "metadata": {},
     "output_type": "execute_result"
    }
   ],
   "source": [
    "from functools import reduce\n",
    "reduce(lambda x, y: x+y, ['mm', 'nn', 'ss', 'dd'])\n",
    "# list(map(lambda x,y: x*2, [1,2,3,4,5]))\n",
    "reduce(lambda x,y: 1*x+y, [1,2,3,4])"
   ]
  },
  {
   "cell_type": "code",
   "execution_count": 24,
   "metadata": {},
   "outputs": [
    {
     "data": {
      "text/plain": [
       "8.0"
      ]
     },
     "execution_count": 24,
     "metadata": {},
     "output_type": "execute_result"
    }
   ],
   "source": [
    "192/24\n"
   ]
  }
 ],
 "metadata": {
  "kernelspec": {
   "display_name": "Python 3",
   "language": "python",
   "name": "python3"
  },
  "language_info": {
   "codemirror_mode": {
    "name": "ipython",
    "version": 3
   },
   "file_extension": ".py",
   "mimetype": "text/x-python",
   "name": "python",
   "nbconvert_exporter": "python",
   "pygments_lexer": "ipython3",
   "version": "3.8.5"
  }
 },
 "nbformat": 4,
 "nbformat_minor": 4
}
