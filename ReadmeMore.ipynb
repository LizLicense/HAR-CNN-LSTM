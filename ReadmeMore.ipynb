{
 "cells": [
  {
   "cell_type": "code",
   "execution_count": 8,
   "metadata": {},
   "outputs": [],
   "source": [
    "# folder struture tree\n",
    "# !pip install seedir\n",
    "# import seedir as sd\n",
    "# import os \n",
    "#current path\n",
    "# os.getcwd() \n",
    "# cd = os.chdir('supervised/')\n",
    "# sd.seedir(cd)"
   ]
  },
  {
   "attachments": {},
   "cell_type": "markdown",
   "metadata": {},
   "source": [
    "### requirement list.rtf"
   ]
  },
  {
   "attachments": {},
   "cell_type": "markdown",
   "metadata": {},
   "source": [
    "### data download and processing"
   ]
  },
  {
   "attachments": {},
   "cell_type": "markdown",
   "metadata": {},
   "source": [
    " [UCIHAR Dataset]https://archive.ics.uci.edu/ml/machine-learning-databases/00240/; \n",
    " \n",
    " https://researchdata.ntu.edu.sg/dataset.xhtml?persistentId=doi:10.21979/N9/0SYHTZ\n",
    "\n",
    " [HAPT dataset]https://archive.ics.uci.edu/ml/machine-learning-databases/00341/; \n",
    "\n",
    " [HHAR dataset]https://archive.ics.uci.edu/ml/machine-learning-databases/00344/; https://researchdata.ntu.edu.sg/dataset.xhtml?persistentId=doi:10.21979/N9/OWDFXO\n",
    " \n",
    "Two ways to pre-process the data:\n",
    "\n",
    "1. read directly from raw data: \n",
    "Download the raw data txt files and save them to 'rawdata' folder. \n",
    "Update the data folder path in the main.py file.\n",
    "some examples in hapt_data/rawdata/\n",
    "\n",
    "2. convert raw data to .pt files:\n",
    "\n",
    "2.1. In 'Dataprocessing folder', processiong.py file to generate the train.pt, val.pt and test.pt; \n",
    "\n",
    "Move the data.pt to the following folder:\n",
    "\n",
    "data folder: /HAR-CNN-LSTM/GitFYP_experiment/uci_data \n",
    "data folder: /HAR-CNN-LSTM/GitFYP_experiment/hapt_data \n",
    "data folder: /HAR-CNN-LSTM/GitFYP_experiment/hhar_data \n",
    " \n",
    "Rename the 'train.pt' to 'train_100per.py'\n",
    "\n",
    "2.2. Create 1, 5, 10, 50% train data\n",
    "\n",
    "create_few_percetages.py to generate the subset of % train data for each dataset; the result will be saved in 'output_data' folder.\n",
    "\n",
    "Move the data.pt to the corresponding data folder\n",
    "\n",
    "some examples in uci_data/\n"
   ]
  },
  {
   "attachments": {},
   "cell_type": "markdown",
   "metadata": {},
   "source": [
    "### supervised learning code\n",
    "\n",
    "cd to: 'GitFYP_experiment/supervised/'\n",
    "\n",
    "Run 'main_pytorch.py'\n",
    "\n",
    "Result saved in 'result' folder\n",
    "\n",
    "Data loader: data_preprocess.py\n",
    "\n",
    "Network: network.py\n",
    "\n",
    "CNN-LSTM-Attention network: run the main_pytorch.py in 'Attention' folder\n",
    "CNN-LSTM network: run the main_pytorch.py outside the 'Attention' folder"
   ]
  },
  {
   "attachments": {},
   "cell_type": "markdown",
   "metadata": {},
   "source": [
    "### ssl code"
   ]
  },
  {
   "attachments": {},
   "cell_type": "markdown",
   "metadata": {},
   "source": [
    "cd to: 'GitFYP_experiment/supervised/'\n",
    "\n",
    "Run 'main.py'\n",
    "\n",
    "    can change paramerter in ArgumentParser() in main.py\n",
    "    e.g.: training mode: ssl or ft or supervised; fine-tuning data percentage, whether oversample, etc.\n",
    "\n",
    "Result saved in 'result' folder\n",
    "\n",
    "Data loader: data_loader.py\n",
    "\n",
    "Network: network.py"
   ]
  },
  {
   "attachments": {},
   "cell_type": "markdown",
   "metadata": {},
   "source": [
    "# quick and multiple run:\n",
    "\n",
    "uci_run_uci.sh\n",
    "hhar_run_hhar.sh\n",
    "hapt_run_hapt.sh"
   ]
  },
  {
   "attachments": {},
   "cell_type": "markdown",
   "metadata": {},
   "source": [
    "### Reference\n",
    "\n",
    "1. supervised learning: https://github.com/jindongwang/Deep-learning-activity-recognition.git\n",
    "\n",
    "2. self-supervised learning: https://github.com/emadeldeen24/TS-TCC.git; https://github.com/emadeldeen24/eval_ssl_ssc.git"
   ]
  }
 ],
 "metadata": {
  "kernelspec": {
   "display_name": "torch",
   "language": "python",
   "name": "python3"
  },
  "language_info": {
   "codemirror_mode": {
    "name": "ipython",
    "version": 3
   },
   "file_extension": ".py",
   "mimetype": "text/x-python",
   "name": "python",
   "nbconvert_exporter": "python",
   "pygments_lexer": "ipython3",
   "version": "3.8.11"
  },
  "orig_nbformat": 4
 },
 "nbformat": 4,
 "nbformat_minor": 2
}
